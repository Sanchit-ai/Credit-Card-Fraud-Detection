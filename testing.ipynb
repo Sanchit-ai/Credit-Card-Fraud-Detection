{
 "cells": [
  {
   "cell_type": "code",
   "execution_count": 1,
   "id": "206c5733",
   "metadata": {},
   "outputs": [],
   "source": [
    "from joblib import dump , load\n",
    "import numpy as np\n",
    "model = load('testing.joblib')"
   ]
  },
  {
   "cell_type": "code",
   "execution_count": 3,
   "id": "a36f16b9",
   "metadata": {},
   "outputs": [
    {
     "name": "stderr",
     "output_type": "stream",
     "text": [
      "C:\\Python311\\Lib\\site-packages\\sklearn\\base.py:464: UserWarning: X does not have valid feature names, but LogisticRegression was fitted with feature names\n",
      "  warnings.warn(\n"
     ]
    },
    {
     "data": {
      "text/plain": [
       "array([0], dtype=int64)"
      ]
     },
     "execution_count": 3,
     "metadata": {},
     "output_type": "execute_result"
    }
   ],
   "source": [
    "fet=np.array([[0.33634919, 3.69732575,  2.88477281, 2.37510886, -2.48993566,\n",
    "       1.38876478, 1.681584 , 1.3363491, -3.69732575,  3.88477281, 1.388477281, -1.414545847,\n",
    "       0.38876478, 0.14545847 , 0.33634919, 4.69732575,  3.88477281, -1.37510886, -1.48993566,\n",
    "       1.38546478, 1.7645847 , 0.33634919, 1.69732575,  3.88477281, 1.3634919, -1.48993566,\n",
    "       -1.36676478, 1.18993566 , -3.69732575,  3.88477281]])\n",
    "model.predict(fet)"
   ]
  },
  {
   "cell_type": "code",
   "execution_count": null,
   "id": "274dcda1",
   "metadata": {},
   "outputs": [],
   "source": []
  }
 ],
 "metadata": {
  "kernelspec": {
   "display_name": "Python 3 (ipykernel)",
   "language": "python",
   "name": "python3"
  },
  "language_info": {
   "codemirror_mode": {
    "name": "ipython",
    "version": 3
   },
   "file_extension": ".py",
   "mimetype": "text/x-python",
   "name": "python",
   "nbconvert_exporter": "python",
   "pygments_lexer": "ipython3",
   "version": "3.11.4"
  }
 },
 "nbformat": 4,
 "nbformat_minor": 5
}
